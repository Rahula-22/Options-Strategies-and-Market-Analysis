{
 "cells": [
  {
   "cell_type": "code",
   "execution_count": 21,
   "id": "13511146",
   "metadata": {},
   "outputs": [
    {
     "data": {
      "text/plain": [
       "'Task 1. Option Chain Data Collection and BSM Model Application\\n1. Download the option chain data or manually obtain it from reliable financial websites.\\n2. Select at least 10 In-The-Money (ITM), 10 Out-Of-The-Money (OTM), and the most appropriate\\nAt-The-Money (ATM) options data for at least two months. This should not be done manually by\\nlooking over data.\\n3. Use the Black-Scholes-Merton (BSM) model to calculate the fair values of these options and\\ndetermine whether they are overpriced or underpriced.\\n4. Additionally, determine which CE should be purchased and which should not.\\nDeliverables\\nPython code for downloading and preprocessing (if required) of option chain data and the\\nfollowing things in the code itself:\\n1. Selected ITM, OTM, and ATM options data.\\n2. Calculated fair values using the BSM model.\\n3. Assessment of whether each option is overpriced or underpriced.'"
      ]
     },
     "execution_count": 21,
     "metadata": {},
     "output_type": "execute_result"
    }
   ],
   "source": [
    "\"\"\"Task 1. Option Chain Data Collection and BSM Model Application\n",
    "1. Download the option chain data or manually obtain it from reliable financial websites.\n",
    "2. Select at least 10 In-The-Money (ITM), 10 Out-Of-The-Money (OTM), and the most appropriate\n",
    "At-The-Money (ATM) options data for at least two months. This should not be done manually by\n",
    "looking over data.\n",
    "3. Use the Black-Scholes-Merton (BSM) model to calculate the fair values of these options and\n",
    "determine whether they are overpriced or underpriced.\n",
    "4. Additionally, determine which CE should be purchased and which should not.\n",
    "Deliverables\n",
    "Python code for downloading and preprocessing (if required) of option chain data and the\n",
    "following things in the code itself:\n",
    "1. Selected ITM, OTM, and ATM options data.\n",
    "2. Calculated fair values using the BSM model.\n",
    "3. Assessment of whether each option is overpriced or underpriced.\"\"\""
   ]
  },
  {
   "cell_type": "code",
   "execution_count": 22,
   "id": "b1c66f9a",
   "metadata": {},
   "outputs": [
    {
     "name": "stdout",
     "output_type": "stream",
     "text": [
      "Requirement already satisfied: jugaad_data in c:\\users\\hp\\anaconda3\\lib\\site-packages (0.26)\n",
      "Requirement already satisfied: appdirs==1.4.4 in c:\\users\\hp\\anaconda3\\lib\\site-packages (from jugaad_data) (1.4.4)\n",
      "Requirement already satisfied: click==7.1.2 in c:\\users\\hp\\anaconda3\\lib\\site-packages (from jugaad_data) (7.1.2)\n",
      "Requirement already satisfied: beautifulsoup4==4.9.3 in c:\\users\\hp\\anaconda3\\lib\\site-packages (from jugaad_data) (4.9.3)\n",
      "Requirement already satisfied: requests in c:\\users\\hp\\anaconda3\\lib\\site-packages (from jugaad_data) (2.28.1)\n",
      "Requirement already satisfied: soupsieve>1.2 in c:\\users\\hp\\anaconda3\\lib\\site-packages (from beautifulsoup4==4.9.3->jugaad_data) (2.3.2.post1)\n",
      "Requirement already satisfied: urllib3<1.27,>=1.21.1 in c:\\users\\hp\\anaconda3\\lib\\site-packages (from requests->jugaad_data) (1.26.14)\n",
      "Requirement already satisfied: idna<4,>=2.5 in c:\\users\\hp\\anaconda3\\lib\\site-packages (from requests->jugaad_data) (3.4)\n",
      "Requirement already satisfied: certifi>=2017.4.17 in c:\\users\\hp\\anaconda3\\lib\\site-packages (from requests->jugaad_data) (2022.12.7)\n",
      "Requirement already satisfied: charset-normalizer<3,>=2 in c:\\users\\hp\\anaconda3\\lib\\site-packages (from requests->jugaad_data) (2.0.4)\n",
      "Note: you may need to restart the kernel to use updated packages.\n"
     ]
    }
   ],
   "source": [
    "pip install jugaad_data"
   ]
  },
  {
   "cell_type": "code",
   "execution_count": 34,
   "id": "8966e607",
   "metadata": {},
   "outputs": [],
   "source": [
    "import numpy as np\n",
    "import pandas as pd\n",
    "import matplotlib.pyplot as plt\n",
    "import yfinance as yf\n",
    "import datetime\n",
    "from scipy.stats import norm\n",
    "from jugaad_data.nse import NSELive"
   ]
  },
  {
   "cell_type": "code",
   "execution_count": 35,
   "id": "5345a79a",
   "metadata": {},
   "outputs": [
    {
     "name": "stdout",
     "output_type": "stream",
     "text": [
      "          date   expiryDate  underlyingValue  strikePrice  impliedVolatility  \\\n",
      "0  23-May-2024  27-Jun-2024          22805.3        21000              17.14   \n",
      "1  23-May-2024  27-Jun-2024          22805.3        21100              16.42   \n",
      "2  23-May-2024  27-Jun-2024          22805.3        21500              18.84   \n",
      "3  23-May-2024  27-Jun-2024          22805.3        21600              17.76   \n",
      "4  23-May-2024  27-Jun-2024          22805.3        21700              17.96   \n",
      "\n",
      "   lastPrice  bsm_model_price moneyness underpriced/overpriced buy/sell  \n",
      "0    2060.00              0.0         -                      -        -  \n",
      "1    1948.40              0.0         -                      -        -  \n",
      "2    1601.35              0.0         -                      -        -  \n",
      "3    1503.00              0.0         -                      -        -  \n",
      "4    1400.00              0.0         -                      -        -  \n"
     ]
    }
   ],
   "source": [
    "# Load the CSV file\n",
    "data = pd.read_csv('t1_data.csv')\n",
    "print(data.head())"
   ]
  },
  {
   "cell_type": "code",
   "execution_count": 36,
   "id": "1c5abd92",
   "metadata": {},
   "outputs": [],
   "source": [
    "# Initialize the current price\n",
    "current_price = data.loc[0, 'underlyingValue']\n",
    "f = 0\n",
    "# Ensure the 'moneyness' column exists\n",
    "data['moneyness'] = None\n",
    "# Iterate through the data to classify moneyness\n",
    "for index, row in data.iterrows():\n",
    "    if row['strikePrice'] < current_price:\n",
    "        data.loc[index, 'moneyness'] = 'ITM'\n",
    "    else:\n",
    "        if f == 0:\n",
    "            f = 1\n",
    "            if index == 0:\n",
    "                data.loc[index, 'moneyness'] = 'ATM'\n",
    "            elif data.loc[index, 'strikePrice'] - current_price < current_price - data.loc[index-1, 'strikePrice']:\n",
    "                data.loc[index, 'moneyness'] = 'ATM'\n",
    "            else:\n",
    "                data.loc[index, 'moneyness'] = 'OTM'\n",
    "                data.loc[index-1, 'moneyness'] = 'ATM'\n",
    "        else:\n",
    "            data.loc[index, 'moneyness'] = 'OTM'"
   ]
  },
  {
   "cell_type": "code",
   "execution_count": 29,
   "id": "7632fe62",
   "metadata": {},
   "outputs": [],
   "source": [
    "# Calculate time to expiry and risk-free interest rate\n",
    "date = data.loc[0, 'date']\n",
    "expiry_date = data.loc[0, 'expiryDate']\n",
    "date1 = datetime.datetime.strptime(date, '%d-%b-%Y').date()\n",
    "date2 = datetime.datetime.strptime(expiry_date, '%d-%b-%Y').date()\n",
    "difference = date2 - date1\n",
    "time_to_expiry = difference.days / 365\n",
    "risk_free_interest_rate = 0.1"
   ]
  },
  {
   "cell_type": "code",
   "execution_count": 30,
   "id": "d7603c72",
   "metadata": {},
   "outputs": [
    {
     "name": "stdout",
     "output_type": "stream",
     "text": [
      "Estimated price: 22706.25\n"
     ]
    }
   ],
   "source": [
    "import numpy as np\n",
    "from scipy.stats import norm\n",
    "\n",
    "def estimated_price(s, v, c=current_price, t=time_to_expiry, r=risk_free_interest_rate, option_type='call'):\n",
    "    \"\"\"\n",
    "    Estimate the price of a European option using the Black-Scholes formula.\n",
    "\n",
    "    Parameters:\n",
    "    s (float): Strike price\n",
    "    v (float): Volatility in percentage\n",
    "    c (float): Current price of the underlying asset\n",
    "    t (float): Time to expiry in years\n",
    "    r (float): Risk-free interest rate\n",
    "    option_type (str): Type of option ('call' or 'put')\n",
    "\n",
    "    Returns:\n",
    "    float: Estimated price of the option\n",
    "    \"\"\"\n",
    "    v /= 100  # Convert percentage volatility to decimal\n",
    "    d1 = (np.log(c / s) + (r + 0.5 * (v ** 2)) * t) / (v * np.sqrt(t))\n",
    "    d2 = d1 - v * np.sqrt(t)\n",
    "    \n",
    "    if option_type == 'call':\n",
    "        estimated_price = c * norm.cdf(d1) - s * np.exp(-r * t) * norm.cdf(d2)\n",
    "    else:\n",
    "        estimated_price = s * np.exp(-r * t) * norm.cdf(-d2) - c * norm.cdf(-d1)\n",
    "    \n",
    "    return round(estimated_price, 2)\n",
    "\n",
    "# Example usage:\n",
    "strike_price = 100  # Example strike price\n",
    "volatility = 20     # Example volatility in percentage\n",
    "option_price = estimated_price(strike_price, volatility)\n",
    "print(f\"Estimated price: {option_price}\")\n"
   ]
  },
  {
   "cell_type": "code",
   "execution_count": 31,
   "id": "58a41964",
   "metadata": {},
   "outputs": [],
   "source": [
    "for index, row in data.iterrows():\n",
    "    # Calculate BSM model price\n",
    "    bsm_price = estimated_price(row['strikePrice'], row['impliedVolatility'])\n",
    "    \n",
    "    # Assign BSM model price\n",
    "    data.loc[index, 'bsm_model_price'] = bsm_price\n",
    "    \n",
    "    # Determine if underpriced or overpriced\n",
    "    if bsm_price <= row['lastPrice']:\n",
    "        data.loc[index, 'underpriced/overpriced'] = 'overpriced'\n",
    "        data.loc[index, 'buy/sell'] = 'sell'\n",
    "    else:\n",
    "        data.loc[index, 'underpriced/overpriced'] = 'underpriced'\n",
    "        data.loc[index, 'buy/sell'] = 'buy'\n"
   ]
  },
  {
   "cell_type": "code",
   "execution_count": 33,
   "id": "c91c2567",
   "metadata": {},
   "outputs": [
    {
     "name": "stdout",
     "output_type": "stream",
     "text": [
      "           date   expiryDate  underlyingValue  strikePrice  impliedVolatility  \\\n",
      "0   23-May-2024  27-Jun-2024          22805.3        21000              17.14   \n",
      "1   23-May-2024  27-Jun-2024          22805.3        21100              16.42   \n",
      "2   23-May-2024  27-Jun-2024          22805.3        21500              18.84   \n",
      "3   23-May-2024  27-Jun-2024          22805.3        21600              17.76   \n",
      "4   23-May-2024  27-Jun-2024          22805.3        21700              17.96   \n",
      "5   23-May-2024  27-Jun-2024          22805.3        21750              10.11   \n",
      "6   23-May-2024  27-Jun-2024          22805.3        21800              18.64   \n",
      "7   23-May-2024  27-Jun-2024          22805.3        21850              18.13   \n",
      "8   23-May-2024  27-Jun-2024          22805.3        21900              18.58   \n",
      "9   23-May-2024  27-Jun-2024          22805.3        21950              14.87   \n",
      "10  23-May-2024  27-Jun-2024          22805.3        22000              19.30   \n",
      "11  23-May-2024  27-Jun-2024          22805.3        22050              15.91   \n",
      "12  23-May-2024  27-Jun-2024          22805.3        22100              18.07   \n",
      "13  23-May-2024  27-Jun-2024          22805.3        22150              17.85   \n",
      "14  23-May-2024  27-Jun-2024          22805.3        22200              18.79   \n",
      "15  23-May-2024  27-Jun-2024          22805.3        22250              18.38   \n",
      "16  23-May-2024  27-Jun-2024          22805.3        22300              18.70   \n",
      "17  23-May-2024  27-Jun-2024          22805.3        22350              18.33   \n",
      "18  23-May-2024  27-Jun-2024          22805.3        22400              18.43   \n",
      "19  23-May-2024  27-Jun-2024          22805.3        22450              18.46   \n",
      "20  23-May-2024  27-Jun-2024          22805.3        22500              18.42   \n",
      "21  23-May-2024  27-Jun-2024          22805.3        22550              18.05   \n",
      "22  23-May-2024  27-Jun-2024          22805.3        22600              18.42   \n",
      "23  23-May-2024  27-Jun-2024          22805.3        22650              17.89   \n",
      "24  23-May-2024  27-Jun-2024          22805.3        22700              18.41   \n",
      "25  23-May-2024  27-Jun-2024          22805.3        22750              18.28   \n",
      "26  23-May-2024  27-Jun-2024          22805.3        22800              18.19   \n",
      "27  23-May-2024  27-Jun-2024          22805.3        22850              18.13   \n",
      "28  23-May-2024  27-Jun-2024          22805.3        22900              18.06   \n",
      "29  23-May-2024  27-Jun-2024          22805.3        22950              17.99   \n",
      "30  23-May-2024  27-Jun-2024          22805.3        23000              18.04   \n",
      "31  23-May-2024  27-Jun-2024          22805.3        23050              17.51   \n",
      "32  23-May-2024  27-Jun-2024          22805.3        23100              17.72   \n",
      "33  23-May-2024  27-Jun-2024          22805.3        23150              17.30   \n",
      "34  23-May-2024  27-Jun-2024          22805.3        23200              17.71   \n",
      "35  23-May-2024  27-Jun-2024          22805.3        23250              17.19   \n",
      "36  23-May-2024  27-Jun-2024          22805.3        23300              17.51   \n",
      "37  23-May-2024  27-Jun-2024          22805.3        23350              17.33   \n",
      "38  23-May-2024  27-Jun-2024          22805.3        23400              17.51   \n",
      "39  23-May-2024  27-Jun-2024          22805.3        23500              17.56   \n",
      "40  23-May-2024  27-Jun-2024          22805.3        23550              17.38   \n",
      "41  23-May-2024  27-Jun-2024          22805.3        23600              17.39   \n",
      "42  23-May-2024  27-Jun-2024          22805.3        23650              17.55   \n",
      "43  23-May-2024  27-Jun-2024          22805.3        23700              17.27   \n",
      "44  23-May-2024  27-Jun-2024          22805.3        23750              17.28   \n",
      "45  23-May-2024  27-Jun-2024          22805.3        23800              17.29   \n",
      "46  23-May-2024  27-Jun-2024          22805.3        23850              17.22   \n",
      "47  23-May-2024  27-Jun-2024          22805.3        23900              17.34   \n",
      "48  23-May-2024  27-Jun-2024          22805.3        23950              17.20   \n",
      "49  23-May-2024  27-Jun-2024          22805.3        24000              17.41   \n",
      "50  23-May-2024  27-Jun-2024          22805.3        24050              17.08   \n",
      "51  23-May-2024  27-Jun-2024          22805.3        24100              17.30   \n",
      "52  23-May-2024  27-Jun-2024          22805.3        24150              17.10   \n",
      "53  23-May-2024  27-Jun-2024          22805.3        24200              17.43   \n",
      "54  23-May-2024  27-Jun-2024          22805.3        24250              17.39   \n",
      "55  23-May-2024  27-Jun-2024          22805.3        24300              17.41   \n",
      "56  23-May-2024  27-Jun-2024          22805.3        24350              17.43   \n",
      "57  23-May-2024  27-Jun-2024          22805.3        24400              17.48   \n",
      "58  23-May-2024  27-Jun-2024          22805.3        24450              17.52   \n",
      "59  23-May-2024  27-Jun-2024          22805.3        24500              17.54   \n",
      "60  23-May-2024  27-Jun-2024          22805.3        25000              18.53   \n",
      "61  23-May-2024  27-Jun-2024          22805.3        26000              20.99   \n",
      "62  23-May-2024  27-Jun-2024          22805.3        27000              23.97   \n",
      "\n",
      "    lastPrice  bsm_model_price moneyness underpriced/overpriced buy/sell  \n",
      "0     2060.00          2025.13         -             overpriced     sell  \n",
      "1     1948.40          1926.13         -             overpriced     sell  \n",
      "2     1601.35          1586.42         -             overpriced     sell  \n",
      "3     1503.00          1485.10         -             overpriced     sell  \n",
      "4     1400.00          1402.74         -            underpriced      buy  \n",
      "5     1247.00          1272.29         -            underpriced      buy  \n",
      "6     1346.50          1331.20         -             overpriced     sell  \n",
      "7     1260.00          1281.65         -            underpriced      buy  \n",
      "8     1262.10          1249.83         -             overpriced     sell  \n",
      "9     1121.75          1144.12         -            underpriced      buy  \n",
      "10    1210.25          1186.37         -             overpriced     sell  \n",
      "11    1059.20          1080.60         -            underpriced      buy  \n",
      "12    1134.90          1085.08         -             overpriced     sell  \n",
      "13    1091.00          1043.01         -             overpriced     sell  \n",
      "14    1051.70          1027.35         -             overpriced     sell  \n",
      "15    1013.95           982.25         -             overpriced     sell  \n",
      "16     980.95           954.68         -             overpriced     sell  \n",
      "17     938.50           911.40         -             overpriced     sell  \n",
      "18     909.00           880.04         -             overpriced     sell  \n",
      "19     874.05           847.72         -             overpriced     sell  \n",
      "20     847.00           814.34         -             overpriced     sell  \n",
      "21     800.00           773.05         -             overpriced     sell  \n",
      "22     773.00           751.75         -             overpriced     sell  \n",
      "23     740.55           707.37         -             overpriced     sell  \n",
      "24     717.30           691.83         -             overpriced     sell  \n",
      "25     679.95           659.55         -             overpriced     sell  \n",
      "26     653.00           629.07         -             overpriced     sell  \n",
      "27     625.50           600.14         -             overpriced     sell  \n",
      "28     595.65           571.68         -             overpriced     sell  \n",
      "29     562.70           543.97         -             overpriced     sell  \n",
      "30     539.95           520.39         -             overpriced     sell  \n",
      "31     485.05           481.25         -             overpriced     sell  \n",
      "32     488.00           463.73         -             overpriced     sell  \n",
      "33     417.00           429.26         -            underpriced      buy  \n",
      "34     437.75           418.89         -             overpriced     sell  \n",
      "35     372.00           383.29         -            underpriced      buy  \n",
      "36     393.55           371.87         -             overpriced     sell  \n",
      "37     354.00           347.36         -             overpriced     sell  \n",
      "38     353.05           333.47         -             overpriced     sell  \n",
      "39     316.00           299.36         -             overpriced     sell  \n",
      "40     296.90           278.00         -             overpriced     sell  \n",
      "41     279.00           262.37         -             overpriced     sell  \n",
      "42     236.80           251.21         -            underpriced      buy  \n",
      "43     242.65           229.68         -             overpriced     sell  \n",
      "44     218.85           216.11         -             overpriced     sell  \n",
      "45     215.00           203.19         -             overpriced     sell  \n",
      "46     186.05           189.04         -            underpriced      buy  \n",
      "47     190.50           179.86         -             overpriced     sell  \n",
      "48     165.00           165.43         -            underpriced      buy  \n",
      "49     169.45           159.21         -             overpriced     sell  \n",
      "50     149.90           142.12         -             overpriced     sell  \n",
      "51     146.00           136.99         -             overpriced     sell  \n",
      "52     133.15           123.99         -             overpriced     sell  \n",
      "53     128.55           121.65         -             overpriced     sell  \n",
      "54     119.20           112.68         -             overpriced     sell  \n",
      "55     110.80           105.27         -             overpriced     sell  \n",
      "56     105.00            98.29         -             overpriced     sell  \n",
      "57      98.40            92.20         -             overpriced     sell  \n",
      "58      87.25            86.29         -             overpriced     sell  \n",
      "59      85.20            80.43         -             overpriced     sell  \n",
      "60      48.60            46.34         -             overpriced     sell  \n",
      "61      19.05            18.83         -             overpriced     sell  \n",
      "62      10.20            10.44         -            underpriced      buy  \n"
     ]
    }
   ],
   "source": [
    "# Set display option to show all rows\n",
    "pd.set_option('display.max_rows', None)\n",
    "\n",
    "# Print or display your DataFrame 'data'\n",
    "print(data)  # Or use data to display in a notebook or console\n"
   ]
  },
  {
   "cell_type": "code",
   "execution_count": null,
   "id": "08e59353",
   "metadata": {},
   "outputs": [],
   "source": []
  },
  {
   "cell_type": "code",
   "execution_count": null,
   "id": "2ff40867",
   "metadata": {},
   "outputs": [],
   "source": []
  }
 ],
 "metadata": {
  "kernelspec": {
   "display_name": "Python 3 (ipykernel)",
   "language": "python",
   "name": "python3"
  },
  "language_info": {
   "codemirror_mode": {
    "name": "ipython",
    "version": 3
   },
   "file_extension": ".py",
   "mimetype": "text/x-python",
   "name": "python",
   "nbconvert_exporter": "python",
   "pygments_lexer": "ipython3",
   "version": "3.10.9"
  }
 },
 "nbformat": 4,
 "nbformat_minor": 5
}
